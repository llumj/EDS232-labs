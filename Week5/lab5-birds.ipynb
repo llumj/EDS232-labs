{
 "cells": [
  {
   "cell_type": "markdown",
   "metadata": {},
   "source": [
    "## Lab 5: Species Distribution Modeling with Bagging \n",
    "Climate change and deforestation are accelerating ecosystem degradation, pushing animal species toward the brink of extinction. Understanding the distribution of animals and the factors that influence their ability to thrive in different environments is critical for conservation efforts. By studying these relationships, biological conservationists can develop informed strategies to protect endangered species and maintain biodiversity across diverse ecosystems.\n",
    "\n",
    "Species are defined by their behavioral, physiological, and ecological attributes, which shape their roles in ecosystems. In turn, ecosystems and their functions are deeply influenced by the species that inhabit them. This reciprocal relationship makes evaluating species' functional diversity and distributions essential for research in biogeography, community ecology, macroevolution, and conservation. Functional diversity is determined by traits such as diet, foraging strata, trophic level, activity cycle, litter size, generation length, habitat breadth, and body mass. These traits influence an animal’s ability to survive and adapt to different climates, playing a crucial role in ecosystem stability.\n",
    "\n",
    "In this lab, we will explore the connections between animal behaviors, functional traits, and species distributions across different climates."
   ]
  },
  {
   "cell_type": "code",
   "execution_count": 1,
   "metadata": {
    "tags": []
   },
   "outputs": [],
   "source": [
    "import pandas as pd\n",
    "import matplotlib.pyplot as plt\n",
    "import seaborn as sns\n",
    "from sklearn.ensemble import BaggingClassifier\n",
    "from sklearn.model_selection import train_test_split\n",
    "from sklearn.metrics import accuracy_score, roc_curve, auc\n",
    "from sklearn.preprocessing import StandardScaler, LabelEncoder\n",
    "from sklearn.inspection import permutation_importance\n",
    "from sklearn.utils import resample"
   ]
  },
  {
   "cell_type": "markdown",
   "metadata": {},
   "source": [
    "### Step 1: Standardizing column names\n",
    "\n",
    "The dataset contains several columns that describe different aspects of bird diets. These column names currently include spaces, colons (:), and special characters, which can make them difficult to work with in code.\n",
    "\n",
    "Load the dataset (BirdTraitData.csv) into a Pandas DataFrame.\n",
    "\n",
    "The 7 column names that start with \"Diet:\" should be renamed to simpler version starting with `Diet_` in a way that conforms with this list of key variables:\n",
    "\n",
    "`AdultBodyMass`, `DietBreadth`, `Diet_Invertebrates`, `Diet_Vertebrates`,`Diet_Fruits`, `Diet_Flowers`, `Diet_Seeds`, `Diet_Plants`, `Diet_Other`, `TrophicLevel`,`ActivityCycle`, `ForagingStratum`, `MigratoryStatus`,`IncubationTime`, `ClutchSize`, `EggLength`, `EggWidth`,`EggMass`, `NestingHabit`,`MaxLongevity`, `Subarid`\n",
    "\n",
    "Then select only that list of 21 key variables. **Print the head of your dataframe.** "
   ]
  },
  {
   "cell_type": "code",
   "execution_count": 2,
   "metadata": {
    "tags": []
   },
   "outputs": [
    {
     "data": {
      "text/html": [
       "<div>\n",
       "<style scoped>\n",
       "    .dataframe tbody tr th:only-of-type {\n",
       "        vertical-align: middle;\n",
       "    }\n",
       "\n",
       "    .dataframe tbody tr th {\n",
       "        vertical-align: top;\n",
       "    }\n",
       "\n",
       "    .dataframe thead th {\n",
       "        text-align: right;\n",
       "    }\n",
       "</style>\n",
       "<table border=\"1\" class=\"dataframe\">\n",
       "  <thead>\n",
       "    <tr style=\"text-align: right;\">\n",
       "      <th></th>\n",
       "      <th>AdultBodyMass</th>\n",
       "      <th>DietBreadth</th>\n",
       "      <th>Diet_Invertebrates</th>\n",
       "      <th>Diet_Vertebrates</th>\n",
       "      <th>Diet_Fruits</th>\n",
       "      <th>Diet_Flowers</th>\n",
       "      <th>Diet_Seeds</th>\n",
       "      <th>Diet_Plants</th>\n",
       "      <th>Diet_Other</th>\n",
       "      <th>TrophicLevel</th>\n",
       "      <th>...</th>\n",
       "      <th>ForagingStratum</th>\n",
       "      <th>MigratoryStatus</th>\n",
       "      <th>IncubationTime</th>\n",
       "      <th>ClutchSize</th>\n",
       "      <th>EggLength</th>\n",
       "      <th>EggWidth</th>\n",
       "      <th>EggMass</th>\n",
       "      <th>NestingHabit</th>\n",
       "      <th>MaxLongevity</th>\n",
       "      <th>Subarid</th>\n",
       "    </tr>\n",
       "  </thead>\n",
       "  <tbody>\n",
       "    <tr>\n",
       "      <th>0</th>\n",
       "      <td>138.5</td>\n",
       "      <td>2.0</td>\n",
       "      <td>yes</td>\n",
       "      <td>yes</td>\n",
       "      <td>no</td>\n",
       "      <td>no</td>\n",
       "      <td>no</td>\n",
       "      <td>no</td>\n",
       "      <td>no</td>\n",
       "      <td>3.0</td>\n",
       "      <td>...</td>\n",
       "      <td>3.0</td>\n",
       "      <td>no</td>\n",
       "      <td>31.0</td>\n",
       "      <td>3.0</td>\n",
       "      <td>3.85</td>\n",
       "      <td>NaN</td>\n",
       "      <td>NaN</td>\n",
       "      <td>arboreal</td>\n",
       "      <td>NaN</td>\n",
       "      <td>1</td>\n",
       "    </tr>\n",
       "    <tr>\n",
       "      <th>1</th>\n",
       "      <td>1050.0</td>\n",
       "      <td>1.0</td>\n",
       "      <td>no</td>\n",
       "      <td>yes</td>\n",
       "      <td>no</td>\n",
       "      <td>no</td>\n",
       "      <td>no</td>\n",
       "      <td>no</td>\n",
       "      <td>no</td>\n",
       "      <td>3.0</td>\n",
       "      <td>...</td>\n",
       "      <td>3.0</td>\n",
       "      <td>no</td>\n",
       "      <td>39.5</td>\n",
       "      <td>2.5</td>\n",
       "      <td>58.50</td>\n",
       "      <td>46.95</td>\n",
       "      <td>NaN</td>\n",
       "      <td>arboreal</td>\n",
       "      <td>NaN</td>\n",
       "      <td>1</td>\n",
       "    </tr>\n",
       "    <tr>\n",
       "      <th>2</th>\n",
       "      <td>181.0</td>\n",
       "      <td>2.0</td>\n",
       "      <td>yes</td>\n",
       "      <td>yes</td>\n",
       "      <td>no</td>\n",
       "      <td>no</td>\n",
       "      <td>no</td>\n",
       "      <td>no</td>\n",
       "      <td>no</td>\n",
       "      <td>3.0</td>\n",
       "      <td>...</td>\n",
       "      <td>3.0</td>\n",
       "      <td>no</td>\n",
       "      <td>35.0</td>\n",
       "      <td>2.5</td>\n",
       "      <td>38.35</td>\n",
       "      <td>31.90</td>\n",
       "      <td>NaN</td>\n",
       "      <td>arboreal</td>\n",
       "      <td>NaN</td>\n",
       "      <td>1</td>\n",
       "    </tr>\n",
       "    <tr>\n",
       "      <th>3</th>\n",
       "      <td>292.0</td>\n",
       "      <td>2.0</td>\n",
       "      <td>yes</td>\n",
       "      <td>yes</td>\n",
       "      <td>no</td>\n",
       "      <td>no</td>\n",
       "      <td>no</td>\n",
       "      <td>no</td>\n",
       "      <td>no</td>\n",
       "      <td>3.0</td>\n",
       "      <td>...</td>\n",
       "      <td>3.0</td>\n",
       "      <td>no</td>\n",
       "      <td>31.0</td>\n",
       "      <td>1.5</td>\n",
       "      <td>43.70</td>\n",
       "      <td>35.20</td>\n",
       "      <td>29.1</td>\n",
       "      <td>arboreal</td>\n",
       "      <td>NaN</td>\n",
       "      <td>1</td>\n",
       "    </tr>\n",
       "    <tr>\n",
       "      <th>4</th>\n",
       "      <td>511.0</td>\n",
       "      <td>2.0</td>\n",
       "      <td>yes</td>\n",
       "      <td>yes</td>\n",
       "      <td>no</td>\n",
       "      <td>no</td>\n",
       "      <td>no</td>\n",
       "      <td>no</td>\n",
       "      <td>no</td>\n",
       "      <td>3.0</td>\n",
       "      <td>...</td>\n",
       "      <td>4.0</td>\n",
       "      <td>no</td>\n",
       "      <td>35.5</td>\n",
       "      <td>2.0</td>\n",
       "      <td>54.50</td>\n",
       "      <td>45.00</td>\n",
       "      <td>NaN</td>\n",
       "      <td>arboreal</td>\n",
       "      <td>144.0</td>\n",
       "      <td>1</td>\n",
       "    </tr>\n",
       "  </tbody>\n",
       "</table>\n",
       "<p>5 rows × 21 columns</p>\n",
       "</div>"
      ],
      "text/plain": [
       "   AdultBodyMass  DietBreadth Diet_Invertebrates Diet_Vertebrates Diet_Fruits  \\\n",
       "0          138.5          2.0                yes              yes          no   \n",
       "1         1050.0          1.0                 no              yes          no   \n",
       "2          181.0          2.0                yes              yes          no   \n",
       "3          292.0          2.0                yes              yes          no   \n",
       "4          511.0          2.0                yes              yes          no   \n",
       "\n",
       "  Diet_Flowers Diet_Seeds Diet_Plants Diet_Other  TrophicLevel  ...  \\\n",
       "0           no         no          no         no           3.0  ...   \n",
       "1           no         no          no         no           3.0  ...   \n",
       "2           no         no          no         no           3.0  ...   \n",
       "3           no         no          no         no           3.0  ...   \n",
       "4           no         no          no         no           3.0  ...   \n",
       "\n",
       "   ForagingStratum  MigratoryStatus IncubationTime  ClutchSize  EggLength  \\\n",
       "0              3.0               no           31.0         3.0       3.85   \n",
       "1              3.0               no           39.5         2.5      58.50   \n",
       "2              3.0               no           35.0         2.5      38.35   \n",
       "3              3.0               no           31.0         1.5      43.70   \n",
       "4              4.0               no           35.5         2.0      54.50   \n",
       "\n",
       "   EggWidth  EggMass  NestingHabit MaxLongevity  Subarid  \n",
       "0       NaN      NaN      arboreal          NaN        1  \n",
       "1     46.95      NaN      arboreal          NaN        1  \n",
       "2     31.90      NaN      arboreal          NaN        1  \n",
       "3     35.20     29.1      arboreal          NaN        1  \n",
       "4     45.00      NaN      arboreal        144.0        1  \n",
       "\n",
       "[5 rows x 21 columns]"
      ]
     },
     "execution_count": 2,
     "metadata": {},
     "output_type": "execute_result"
    }
   ],
   "source": [
    "birds = pd.read_csv(\"BirdTraitData.csv\", encoding= \"unicode_escape\", na_values=[-999])\n",
    "\n",
    "rename_dict = {\n",
    "    'Diet: invertebrates': 'Diet_Invertebrates',\n",
    "    'Diet: vertebrates': 'Diet_Vertebrates',\n",
    "    'Diet: fruits': 'Diet_Fruits',\n",
    "    'Diet: flower/nectar/pollen/gums': 'Diet_Flowers',\n",
    "    'Diet: seeds': 'Diet_Seeds',\n",
    "    'Diet: other plant materials': 'Diet_Plants',\n",
    "    'Diet: scavenge; garbage; carrion; offal; carcasses': 'Diet_Other'\n",
    "}\n",
    "\n",
    "birds = birds.rename(columns=rename_dict)\n",
    "\n",
    "selected_columns = [\n",
    "    'AdultBodyMass', \n",
    "    'DietBreadth', \n",
    "    'Diet_Invertebrates', \n",
    "    'Diet_Vertebrates',\n",
    "    'Diet_Fruits', \n",
    "    'Diet_Flowers', \n",
    "    'Diet_Seeds', \n",
    "    'Diet_Plants', \n",
    "    'Diet_Other', \n",
    "    'TrophicLevel',\n",
    "    'ActivityCycle', \n",
    "    'ForagingStratum', \n",
    "    'MigratoryStatus',\n",
    "    'IncubationTime', \n",
    "    'ClutchSize', \n",
    "    'EggLength', \n",
    "    'EggWidth',\n",
    "    'EggMass', \n",
    "    'NestingHabit',\n",
    "    'MaxLongevity', \n",
    "    'Subarid'\n",
    "]\n",
    "\n",
    "\n",
    "\n",
    "birds = birds[selected_columns]\n",
    "\n",
    "birds.head()"
   ]
  },
  {
   "cell_type": "markdown",
   "metadata": {},
   "source": [
    "### Step 2: Encode categorical variables\n",
    "In our dataset, some columns contain categorical (non-numeric) data, such as species names or habitat types that need to be converted to numerical representations. Let's use label encoding to assign a unique number to each category in a column.\n",
    "\n",
    "Encode the data using this process:\n",
    "1. Find all categorical columns in df using `.select_dtypes(include=['object'])`\n",
    "2. Loop through each categorical column and apply `LabelEncoder()`\n",
    "3. Replace the original categorical columns with their encoded values.\n",
    "4. Print the head of your dataframe to ensure that labels were in fact encoded. "
   ]
  },
  {
   "cell_type": "code",
   "execution_count": 3,
   "metadata": {
    "tags": []
   },
   "outputs": [
    {
     "data": {
      "text/plain": [
       "AdultBodyMass         0\n",
       "DietBreadth           0\n",
       "Diet_Invertebrates    0\n",
       "Diet_Vertebrates      0\n",
       "Diet_Fruits           0\n",
       "Diet_Flowers          0\n",
       "Diet_Seeds            0\n",
       "Diet_Plants           0\n",
       "Diet_Other            0\n",
       "TrophicLevel          0\n",
       "ActivityCycle         0\n",
       "ForagingStratum       0\n",
       "MigratoryStatus       0\n",
       "IncubationTime        0\n",
       "ClutchSize            0\n",
       "EggLength             0\n",
       "EggWidth              0\n",
       "EggMass               0\n",
       "NestingHabit          0\n",
       "MaxLongevity          0\n",
       "Subarid               0\n",
       "dtype: int64"
      ]
     },
     "execution_count": 3,
     "metadata": {},
     "output_type": "execute_result"
    }
   ],
   "source": [
    "cols = birds.select_dtypes(include = ['object'])\n",
    "\n",
    "birds_impute = birds.fillna(birds.mode().iloc[0])\n",
    "\n",
    "for col in cols: \n",
    "    le = LabelEncoder()\n",
    "    birds_impute[col] = le.fit_transform(birds_impute[col])\n",
    "    \n",
    "birds_impute.isna().sum()"
   ]
  },
  {
   "cell_type": "markdown",
   "metadata": {},
   "source": [
    "### Step 3: Defining features, splitting data, and training a bagging classifier\n",
    "Our goal for this analysis is to predict whether a given bird species is present in Subarid climate zones. \n",
    "\n",
    "1. Drop the corresponding variable from the features (X) and define it as the target (y). Then perform the train-test split with 70/30 train/test and a random state of 808.\n",
    "\n",
    "2. Initialize a bagging classifier with 100 trees, `oob_score =True`, `bootstrap = True` and `random_state = 808`.  \n",
    "\n",
    "3. Train the model."
   ]
  },
  {
   "cell_type": "code",
   "execution_count": 4,
   "metadata": {
    "tags": []
   },
   "outputs": [
    {
     "data": {
      "text/html": [
       "<style>#sk-container-id-1 {color: black;}#sk-container-id-1 pre{padding: 0;}#sk-container-id-1 div.sk-toggleable {background-color: white;}#sk-container-id-1 label.sk-toggleable__label {cursor: pointer;display: block;width: 100%;margin-bottom: 0;padding: 0.3em;box-sizing: border-box;text-align: center;}#sk-container-id-1 label.sk-toggleable__label-arrow:before {content: \"▸\";float: left;margin-right: 0.25em;color: #696969;}#sk-container-id-1 label.sk-toggleable__label-arrow:hover:before {color: black;}#sk-container-id-1 div.sk-estimator:hover label.sk-toggleable__label-arrow:before {color: black;}#sk-container-id-1 div.sk-toggleable__content {max-height: 0;max-width: 0;overflow: hidden;text-align: left;background-color: #f0f8ff;}#sk-container-id-1 div.sk-toggleable__content pre {margin: 0.2em;color: black;border-radius: 0.25em;background-color: #f0f8ff;}#sk-container-id-1 input.sk-toggleable__control:checked~div.sk-toggleable__content {max-height: 200px;max-width: 100%;overflow: auto;}#sk-container-id-1 input.sk-toggleable__control:checked~label.sk-toggleable__label-arrow:before {content: \"▾\";}#sk-container-id-1 div.sk-estimator input.sk-toggleable__control:checked~label.sk-toggleable__label {background-color: #d4ebff;}#sk-container-id-1 div.sk-label input.sk-toggleable__control:checked~label.sk-toggleable__label {background-color: #d4ebff;}#sk-container-id-1 input.sk-hidden--visually {border: 0;clip: rect(1px 1px 1px 1px);clip: rect(1px, 1px, 1px, 1px);height: 1px;margin: -1px;overflow: hidden;padding: 0;position: absolute;width: 1px;}#sk-container-id-1 div.sk-estimator {font-family: monospace;background-color: #f0f8ff;border: 1px dotted black;border-radius: 0.25em;box-sizing: border-box;margin-bottom: 0.5em;}#sk-container-id-1 div.sk-estimator:hover {background-color: #d4ebff;}#sk-container-id-1 div.sk-parallel-item::after {content: \"\";width: 100%;border-bottom: 1px solid gray;flex-grow: 1;}#sk-container-id-1 div.sk-label:hover label.sk-toggleable__label {background-color: #d4ebff;}#sk-container-id-1 div.sk-serial::before {content: \"\";position: absolute;border-left: 1px solid gray;box-sizing: border-box;top: 0;bottom: 0;left: 50%;z-index: 0;}#sk-container-id-1 div.sk-serial {display: flex;flex-direction: column;align-items: center;background-color: white;padding-right: 0.2em;padding-left: 0.2em;position: relative;}#sk-container-id-1 div.sk-item {position: relative;z-index: 1;}#sk-container-id-1 div.sk-parallel {display: flex;align-items: stretch;justify-content: center;background-color: white;position: relative;}#sk-container-id-1 div.sk-item::before, #sk-container-id-1 div.sk-parallel-item::before {content: \"\";position: absolute;border-left: 1px solid gray;box-sizing: border-box;top: 0;bottom: 0;left: 50%;z-index: -1;}#sk-container-id-1 div.sk-parallel-item {display: flex;flex-direction: column;z-index: 1;position: relative;background-color: white;}#sk-container-id-1 div.sk-parallel-item:first-child::after {align-self: flex-end;width: 50%;}#sk-container-id-1 div.sk-parallel-item:last-child::after {align-self: flex-start;width: 50%;}#sk-container-id-1 div.sk-parallel-item:only-child::after {width: 0;}#sk-container-id-1 div.sk-dashed-wrapped {border: 1px dashed gray;margin: 0 0.4em 0.5em 0.4em;box-sizing: border-box;padding-bottom: 0.4em;background-color: white;}#sk-container-id-1 div.sk-label label {font-family: monospace;font-weight: bold;display: inline-block;line-height: 1.2em;}#sk-container-id-1 div.sk-label-container {text-align: center;}#sk-container-id-1 div.sk-container {/* jupyter's `normalize.less` sets `[hidden] { display: none; }` but bootstrap.min.css set `[hidden] { display: none !important; }` so we also need the `!important` here to be able to override the default hidden behavior on the sphinx rendered scikit-learn.org. See: https://github.com/scikit-learn/scikit-learn/issues/21755 */display: inline-block !important;position: relative;}#sk-container-id-1 div.sk-text-repr-fallback {display: none;}</style><div id=\"sk-container-id-1\" class=\"sk-top-container\"><div class=\"sk-text-repr-fallback\"><pre>BaggingClassifier(n_estimators=100, oob_score=True, random_state=808)</pre><b>In a Jupyter environment, please rerun this cell to show the HTML representation or trust the notebook. <br />On GitHub, the HTML representation is unable to render, please try loading this page with nbviewer.org.</b></div><div class=\"sk-container\" hidden><div class=\"sk-item\"><div class=\"sk-estimator sk-toggleable\"><input class=\"sk-toggleable__control sk-hidden--visually\" id=\"sk-estimator-id-1\" type=\"checkbox\" checked><label for=\"sk-estimator-id-1\" class=\"sk-toggleable__label sk-toggleable__label-arrow\">BaggingClassifier</label><div class=\"sk-toggleable__content\"><pre>BaggingClassifier(n_estimators=100, oob_score=True, random_state=808)</pre></div></div></div></div></div>"
      ],
      "text/plain": [
       "BaggingClassifier(n_estimators=100, oob_score=True, random_state=808)"
      ]
     },
     "execution_count": 4,
     "metadata": {},
     "output_type": "execute_result"
    }
   ],
   "source": [
    "X = birds_impute.drop(columns= ['Subarid'])\n",
    "y = birds_impute['Subarid']\n",
    "\n",
    "# Split into training and test sets\n",
    "X_train, X_test, y_train, y_test = train_test_split(X,y, test_size = 0.3, random_state = 808)\n",
    "\n",
    "# Train a Bagging Ensemble of Decision Trees\n",
    "bagging = BaggingClassifier(\n",
    "        oob_score = True,\n",
    "        n_estimators = 100,\n",
    "        bootstrap = True,\n",
    "        random_state= 808)\n",
    "\n",
    "bagging.fit(X_train, y_train)"
   ]
  },
  {
   "cell_type": "markdown",
   "metadata": {},
   "source": [
    "### Step 4: Make predictions and evaluate the model\n",
    "\n",
    "1. Generate predictions\n",
    "- Use the trained bagging model to predict values for the test set (`X_test`).\n",
    "\n",
    "2. Calculate the Out-of-Bag (OOB) Score\n",
    "- The OOB score is an internal validation score computed using samples not included in bootstrapped subsets.\n",
    "\n",
    "3. Compute model accuracy\n",
    "- Print the OOB score and the bagging accuracy score."
   ]
  },
  {
   "cell_type": "code",
   "execution_count": 5,
   "metadata": {
    "tags": []
   },
   "outputs": [
    {
     "name": "stdout",
     "output_type": "stream",
     "text": [
      "OOB Score: 0.858\n",
      "Bagging Accuracy: 0.932\n"
     ]
    }
   ],
   "source": [
    "bagging_preds = bagging.predict(X_test)\n",
    "\n",
    "\n",
    "# Compare Accuracy\n",
    "print(f\"OOB Score: {bagging.oob_score_ :.3f}\")\n",
    "print(f\"Bagging Accuracy: {accuracy_score(y_test, bagging_preds) :.3f}\")"
   ]
  },
  {
   "cell_type": "markdown",
   "metadata": {},
   "source": [
    "### Step 5: Calculate and plot ROC curve\n",
    "\n",
    "- Use `label=f\"Bagging (AUC = {roc_auc_bagging:.2f})\"` to include the AUC value in the plot."
   ]
  },
  {
   "cell_type": "code",
   "execution_count": 6,
   "metadata": {
    "tags": []
   },
   "outputs": [
    {
     "data": {
      "image/png": "[encoded data removed]",
      "text/plain": [
       "<Figure size 800x600 with 1 Axes>"
      ]
     },
     "metadata": {},
     "output_type": "display_data"
    }
   ],
   "source": [
    "y_pred = bagging.predict_proba(X_test)[:,1]\n",
    "fpr, tpr, _ = roc_curve(y_test, y_pred)\n",
    "roc_auc_bagging = auc(fpr, tpr)\n",
    "\n",
    "# Plot ROC curve\n",
    "plt.figure(figsize=(8, 6))\n",
    "plt.plot(fpr, tpr, color='blue', label=f'Bagging (AUC = {roc_auc_bagging:.2f})')\n",
    "plt.plot([0, 1], [0, 1], color='grey', linestyle='--')\n",
    "plt.xlabel('False Positive Rate')\n",
    "plt.ylabel('True Positive Rate')\n",
    "plt.title('Receiver Operating Characteristic (ROC) Curve')\n",
    "plt.legend(loc=\"lower right\")\n",
    "plt.show()"
   ]
  },
  {
   "cell_type": "markdown",
   "metadata": {},
   "source": [
    "Now how does the ROC curve look? How does this compare to our classification accuracy metric?  What might be going on? "
   ]
  },
  {
   "cell_type": "markdown",
   "metadata": {},
   "source": [
    "Our model have high accuracy of 93%. When you look at the area under the curve, it is .64 which would suggest lest accuracy. This could be due to the class imbalance. It could be predicting the majority class better."
   ]
  },
  {
   "cell_type": "markdown",
   "metadata": {},
   "source": [
    "### Step 6: Introducing upsampling\n",
    "\n",
    "The ROC curve indicates that our model is not performing well.  This is a common issue in imbalanced datasets, where one class significantly outnumbers the other. To improve our model’s ability to correctly classify both groups, we will upsample the minority class so that both classes have equal representation in the training set.\n",
    "\n",
    "**Perform upsampling to balance the dataset**\n",
    "1. Separate the majority and minority classes:\n",
    "- Identify which class (0,1) is underrepresented (the minority class) and which is overrepresented (the majority class). \n",
    "- Separate both the `X_train` data and `y_train` data into all majority class and all minority class sets. \n",
    "2. Apply upsampling:\n",
    "- Use `resample()` to create additional synthetic samples of the minority class *with replacement* until it is the same size as the majority class data. Use a random state of 808. \n",
    "3. Combine the balanced classes:\n",
    "Merge the original majority class with the newly upsampled minority class.\n",
    "4. Shuffle the resampled dataset:\n",
    "- Randomly shuffle the data to ensure the model does not learn any unintended patterns from the order of the data. Use a random state of 808 for shuffling both the resampled X and y training data. \n",
    "5. Print the value counts for the resampled y training data to ensure that the data is balanced. \n"
   ]
  },
  {
   "cell_type": "code",
   "execution_count": 7,
   "metadata": {
    "tags": []
   },
   "outputs": [
    {
     "name": "stdout",
     "output_type": "stream",
     "text": [
      "Class distribution in balanced dataset:\n",
      "Subarid\n",
      "1    150\n",
      "0    150\n",
      "Name: count, dtype: int64\n"
     ]
    }
   ],
   "source": [
    "# Separate majority and minority classes\n",
    "X_train_majority = X_train[y_train == 1]\n",
    "X_train_minority = X_train[y_train == 0]\n",
    "\n",
    "y_train_majority = y_train[y_train == 1]\n",
    "y_train_minority = y_train[y_train == 0]\n",
    "\n",
    "X_train_minority_up = resample(X_train_minority,\n",
    "                                random_state = 808,\n",
    "                                n_samples=len(X_train_majority),\n",
    "                                replace=True)\n",
    "y_train_minority_up = resample(y_train_minority,\n",
    "                                random_state = 808,\n",
    "                                n_samples=len(y_train_majority),\n",
    "                                replace=True)\n",
    "\n",
    "X_train_balanced = pd.concat([X_train_majority, X_train_minority_up]).sample(frac = 1, random_state = 808).reset_index(drop = True)\n",
    "y_train_balanced = pd.concat([y_train_majority, y_train_minority_up]).sample(frac = 1, random_state = 808).reset_index(drop = True)\n",
    "\n",
    "X_train_balanced = resample(X_train_balanced, random_state=808)\n",
    "y_train_balanced = resample(y_train_balanced, random_state=808)\n",
    "\n",
    "\n",
    "\n",
    "print(f\"Class distribution in balanced dataset:\\n{y_train_balanced.value_counts()}\")"
   ]
  },
  {
   "cell_type": "markdown",
   "metadata": {},
   "source": [
    "### Step 7: Retrain and evaluate model using balanced data\n",
    "\n",
    "Now that we have addressed the class imbalance by upsampling the minority class, we will retrain the bagging classifier on the newly balanced dataset and evaluate its performance. This will help us determine whether handling class imbalance improves model accuracy and its ability to distinguish between classes. Create a bagging model using your balanced data. Use a random state of 808. Print the accuracy and and ROC Curve for this new model with balanced data. "
   ]
  },
  {
   "cell_type": "code",
   "execution_count": 8,
   "metadata": {
    "tags": []
   },
   "outputs": [
    {
     "name": "stdout",
     "output_type": "stream",
     "text": [
      "OOB Score (Balanced): 0.957\n",
      "Bagging Accuracy (Balanced): 0.795\n"
     ]
    },
    {
     "data": {
      "image/png": "[encoded data removed]",
      "text/plain": [
       "<Figure size 800x600 with 1 Axes>"
      ]
     },
     "metadata": {},
     "output_type": "display_data"
    }
   ],
   "source": [
    "# Retrain the bagging classifier using the balanced data\n",
    "bagging_balanced = BaggingClassifier(\n",
    "        oob_score=True,\n",
    "        n_estimators=100,\n",
    "        bootstrap=True,\n",
    "        random_state=808\n",
    ")\n",
    "\n",
    "# Train the model\n",
    "bagging_balanced.fit(X_train_balanced, y_train_balanced)\n",
    "\n",
    "# Generate predictions using the balanced model\n",
    "bagging_balanced_preds = bagging_balanced.predict(X_test)\n",
    "\n",
    "# Calculate the Out-of-Bag (OOB) Score\n",
    "print(f\"OOB Score (Balanced): {bagging_balanced.oob_score_ :.3f}\")\n",
    "\n",
    "# Compute model accuracy\n",
    "balanced_accuracy = accuracy_score(y_test, bagging_balanced_preds)\n",
    "print(f\"Bagging Accuracy (Balanced): {balanced_accuracy :.3f}\")\n",
    "\n",
    "# Calculate and plot ROC curve\n",
    "y_pred_balanced = bagging_balanced.predict_proba(X_test)[:,1]\n",
    "fpr_balanced, tpr_balanced, _ = roc_curve(y_test, y_pred_balanced)\n",
    "roc_auc_balanced = auc(fpr_balanced, tpr_balanced)\n",
    "\n",
    "# Plot ROC curve\n",
    "plt.figure(figsize=(8, 6))\n",
    "plt.plot(fpr_balanced, tpr_balanced, color='green', label=f'Bagging (AUC = {roc_auc_balanced:.2f})')\n",
    "plt.plot([0, 1], [0, 1], color='grey', linestyle='--')\n",
    "plt.xlabel('False Positive Rate')\n",
    "plt.ylabel('True Positive Rate')\n",
    "plt.title('Receiver Operating Characteristic (ROC) Curve (Balanced Data)')\n",
    "plt.legend(loc=\"lower right\")\n",
    "plt.show()"
   ]
  },
  {
   "cell_type": "markdown",
   "metadata": {},
   "source": [
    "How did this second model, trained on balanced data, do in comparison to the first on the accuracy and AUC metrics.  How should we interpret those results?  Did the upscaling prove useful?"
   ]
  },
  {
   "cell_type": "markdown",
   "metadata": {},
   "source": [
    "Accuracy went down and AUC went up. The increase in AUC means the model has improved its ability to discriminate between the minority and majority classes. This indicates better performance in ranking minority samples higher than majority ones, even though the overall classification accuracy has decreased"
   ]
  },
  {
   "cell_type": "markdown",
   "metadata": {},
   "source": [
    "### Step 8: Analyzing feature importance with permutation importance\n",
    "\n",
    "Understanding which bird traits contribute the most to our model’s predictions is crucial for interpreting results. We covered in lecture how the results of ensemble methods are harder to interpret than a single decision tree.  But we do have some tools to do it.  In this step, we will compute permutation importance, which measures the impact of each trait by shuffling its values and observing the effect on model performance. This will help us identify which functional traits—such as diet, body mass, or habitat breadth—play the biggest role in predicting whether a species is found in a subarid environment.\n",
    "\n",
    "Use `permutation_importance()` to calculate the importance values.  You'll need to pass it the model, the feature and target test data, and an n_repeats value of 10."
   ]
  },
  {
   "cell_type": "code",
   "execution_count": 9,
   "metadata": {
    "tags": []
   },
   "outputs": [
    {
     "name": "stdout",
     "output_type": "stream",
     "text": [
      "               Feature  Importance\n",
      "10       ActivityCycle    0.043836\n",
      "0        AdultBodyMass    0.027397\n",
      "12     MigratoryStatus    0.019178\n",
      "7          Diet_Plants    0.015068\n",
      "14          ClutchSize    0.010959\n",
      "16            EggWidth    0.009589\n",
      "19        MaxLongevity    0.008219\n",
      "18        NestingHabit    0.002740\n",
      "3     Diet_Vertebrates    0.001370\n",
      "2   Diet_Invertebrates    0.000000\n",
      "4          Diet_Fruits    0.000000\n",
      "5         Diet_Flowers    0.000000\n",
      "9         TrophicLevel    0.000000\n",
      "6           Diet_Seeds    0.000000\n",
      "11     ForagingStratum   -0.001370\n",
      "1          DietBreadth   -0.010959\n",
      "15           EggLength   -0.010959\n",
      "8           Diet_Other   -0.016438\n",
      "13      IncubationTime   -0.019178\n",
      "17             EggMass   -0.047945\n"
     ]
    }
   ],
   "source": [
    "# Calculate permutation importance\n",
    "perm_importance = permutation_importance(\n",
    "    bagging_balanced, X_test, y_test, n_repeats=10, random_state=808\n",
    ")\n",
    "\n",
    "# Create a DataFrame to store importance values\n",
    "feature_importance = pd.DataFrame({\n",
    "    'Feature': X_test.columns,\n",
    "    'Importance': perm_importance.importances_mean\n",
    "}).sort_values(by='Importance', ascending=False)\n",
    "\n",
    "# Print the feature importance values\n",
    "print(feature_importance)"
   ]
  },
  {
   "cell_type": "markdown",
   "metadata": {},
   "source": [
    "What features are most important in our model of species distribution?"
   ]
  },
  {
   "cell_type": "markdown",
   "metadata": {},
   "source": [
    "1. ActivityCylce\n",
    "2. AdultBodyMass\n",
    "3. MigratoryStatus\n"
   ]
  }
 ],
 "metadata": {
  "kernelspec": {
   "display_name": "Anaconda 3 (EDS232)",
   "language": "python",
   "name": "ml-env"
  },
  "language_info": {
   "codemirror_mode": {
    "name": "ipython",
    "version": 3
   },
   "file_extension": ".py",
   "mimetype": "text/x-python",
   "name": "python",
   "nbconvert_exporter": "python",
   "pygments_lexer": "ipython3",
   "version": "3.10.16"
  }
 },
 "nbformat": 4,
 "nbformat_minor": 4
}
